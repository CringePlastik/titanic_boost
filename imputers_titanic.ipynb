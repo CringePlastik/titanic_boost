{
 "cells": [
  {
   "cell_type": "code",
   "execution_count": 2,
   "metadata": {},
   "outputs": [
    {
     "name": "stderr",
     "output_type": "stream",
     "text": [
      "`should_run_async` will not call `transform_cell` automatically in the future. Please pass the result to `transformed_cell` argument and any exception that happen during thetransform in `preprocessing_exc_tuple` in IPython 7.17 and above.\n"
     ]
    }
   ],
   "source": [
    "import os\n",
    "import gc\n",
    "import joblib\n",
    "import numpy as np\n",
    "import pandas as pd\n",
    "import mlflow\n",
    "import shap\n",
    "import catboost as cat\n",
    "import xgboost as xgb\n",
    "import featuretools as ft\n",
    "import matplotlib.pyplot as plt\n",
    "from pandas_profiling import ProfileReport\n",
    "from typing import Tuple, Callable\n",
    "from sklearn.preprocessing import LabelEncoder\n",
    "from sklearn.metrics import classification_report, roc_auc_score, accuracy_score\n",
    "from sklearn.model_selection import KFold\n",
    "from sklearn.model_selection import train_test_split\n",
    "from sklearn.model_selection import cross_validate\n",
    "from sklearn.ensemble import RandomForestClassifier\n",
    "from category_encoders import TargetEncoder\n",
    "from sklearn.preprocessing import OneHotEncoder \n",
    "from lightgbm import LGBMClassifier\n",
    "from sklearn.svm import SVC\n",
    "from sklearn.linear_model import LogisticRegression\n",
    "from sklearn.neighbors import KNeighborsClassifier\n",
    "from sklearn.neural_network import MLPClassifier\n",
    "from sklearn.impute import KNNImputer"
   ]
  },
  {
   "cell_type": "code",
   "execution_count": 3,
   "metadata": {},
   "outputs": [],
   "source": [
    "# Features\n",
    "PASSENGER_ID  = 'PassengerId'\n",
    "SURVIVED = 'Survived'\n",
    "PCLASS = 'Pclass'\n",
    "NAME = 'Name'\n",
    "SEX = 'Sex'\n",
    "AGE = 'Age'\n",
    "SIBSP = 'SibSp'\n",
    "PARCH = 'Parch'\n",
    "TICKET = 'Ticket'\n",
    "FARE = 'Fare'\n",
    "CABIN = 'Cabin'\n",
    "EMBARKED = 'Embarked'\n",
    "CAT_FEATURES = [PCLASS, SEX, TICKET, CABIN, EMBARKED]\n",
    "TRANS_PRIMITIVES = ['multiply_numeric', 'divide_numeric']\n",
    "\n",
    "DEFAULT_OTHER_NAME = 'Other'\n",
    "DEFAULT_NAN_NAME = 'NaN'\n",
    "DEFAULT_OTHER_FOR_NUMERIC = -99999\n",
    "DEFAULT_NAN_FOR_NUMERIC = -88888\n",
    "TRAIN_FILE = \"data/train.csv\"\n",
    "TEST_FILE = \"data/test.csv\"\n",
    "REPORT_PATH = 'reports/titanic_report.html'"
   ]
  },
  {
   "cell_type": "code",
   "execution_count": 40,
   "metadata": {},
   "outputs": [],
   "source": [
    "train = pd.read_csv(TRAIN_FILE)"
   ]
  },
  {
   "cell_type": "code",
   "execution_count": 41,
   "metadata": {},
   "outputs": [
    {
     "data": {
      "text/html": [
       "<div>\n",
       "<style scoped>\n",
       "    .dataframe tbody tr th:only-of-type {\n",
       "        vertical-align: middle;\n",
       "    }\n",
       "\n",
       "    .dataframe tbody tr th {\n",
       "        vertical-align: top;\n",
       "    }\n",
       "\n",
       "    .dataframe thead th {\n",
       "        text-align: right;\n",
       "    }\n",
       "</style>\n",
       "<table border=\"1\" class=\"dataframe\">\n",
       "  <thead>\n",
       "    <tr style=\"text-align: right;\">\n",
       "      <th></th>\n",
       "      <th>PassengerId</th>\n",
       "      <th>Survived</th>\n",
       "      <th>Pclass</th>\n",
       "      <th>Name</th>\n",
       "      <th>Sex</th>\n",
       "      <th>Age</th>\n",
       "      <th>SibSp</th>\n",
       "      <th>Parch</th>\n",
       "      <th>Ticket</th>\n",
       "      <th>Fare</th>\n",
       "      <th>Cabin</th>\n",
       "      <th>Embarked</th>\n",
       "    </tr>\n",
       "  </thead>\n",
       "  <tbody>\n",
       "    <tr>\n",
       "      <th>0</th>\n",
       "      <td>1</td>\n",
       "      <td>0</td>\n",
       "      <td>3</td>\n",
       "      <td>Braund, Mr. Owen Harris</td>\n",
       "      <td>male</td>\n",
       "      <td>22.0</td>\n",
       "      <td>1</td>\n",
       "      <td>0</td>\n",
       "      <td>A/5 21171</td>\n",
       "      <td>7.2500</td>\n",
       "      <td>NaN</td>\n",
       "      <td>S</td>\n",
       "    </tr>\n",
       "    <tr>\n",
       "      <th>1</th>\n",
       "      <td>2</td>\n",
       "      <td>1</td>\n",
       "      <td>1</td>\n",
       "      <td>Cumings, Mrs. John Bradley (Florence Briggs Th...</td>\n",
       "      <td>female</td>\n",
       "      <td>38.0</td>\n",
       "      <td>1</td>\n",
       "      <td>0</td>\n",
       "      <td>PC 17599</td>\n",
       "      <td>71.2833</td>\n",
       "      <td>C85</td>\n",
       "      <td>C</td>\n",
       "    </tr>\n",
       "    <tr>\n",
       "      <th>2</th>\n",
       "      <td>3</td>\n",
       "      <td>1</td>\n",
       "      <td>3</td>\n",
       "      <td>Heikkinen, Miss. Laina</td>\n",
       "      <td>female</td>\n",
       "      <td>26.0</td>\n",
       "      <td>0</td>\n",
       "      <td>0</td>\n",
       "      <td>STON/O2. 3101282</td>\n",
       "      <td>7.9250</td>\n",
       "      <td>NaN</td>\n",
       "      <td>S</td>\n",
       "    </tr>\n",
       "    <tr>\n",
       "      <th>3</th>\n",
       "      <td>4</td>\n",
       "      <td>1</td>\n",
       "      <td>1</td>\n",
       "      <td>Futrelle, Mrs. Jacques Heath (Lily May Peel)</td>\n",
       "      <td>female</td>\n",
       "      <td>35.0</td>\n",
       "      <td>1</td>\n",
       "      <td>0</td>\n",
       "      <td>113803</td>\n",
       "      <td>53.1000</td>\n",
       "      <td>C123</td>\n",
       "      <td>S</td>\n",
       "    </tr>\n",
       "    <tr>\n",
       "      <th>4</th>\n",
       "      <td>5</td>\n",
       "      <td>0</td>\n",
       "      <td>3</td>\n",
       "      <td>Allen, Mr. William Henry</td>\n",
       "      <td>male</td>\n",
       "      <td>35.0</td>\n",
       "      <td>0</td>\n",
       "      <td>0</td>\n",
       "      <td>373450</td>\n",
       "      <td>8.0500</td>\n",
       "      <td>NaN</td>\n",
       "      <td>S</td>\n",
       "    </tr>\n",
       "  </tbody>\n",
       "</table>\n",
       "</div>"
      ],
      "text/plain": [
       "   PassengerId  Survived  Pclass  \\\n",
       "0            1         0       3   \n",
       "1            2         1       1   \n",
       "2            3         1       3   \n",
       "3            4         1       1   \n",
       "4            5         0       3   \n",
       "\n",
       "                                                Name     Sex   Age  SibSp  \\\n",
       "0                            Braund, Mr. Owen Harris    male  22.0      1   \n",
       "1  Cumings, Mrs. John Bradley (Florence Briggs Th...  female  38.0      1   \n",
       "2                             Heikkinen, Miss. Laina  female  26.0      0   \n",
       "3       Futrelle, Mrs. Jacques Heath (Lily May Peel)  female  35.0      1   \n",
       "4                           Allen, Mr. William Henry    male  35.0      0   \n",
       "\n",
       "   Parch            Ticket     Fare Cabin Embarked  \n",
       "0      0         A/5 21171   7.2500   NaN        S  \n",
       "1      0          PC 17599  71.2833   C85        C  \n",
       "2      0  STON/O2. 3101282   7.9250   NaN        S  \n",
       "3      0            113803  53.1000  C123        S  \n",
       "4      0            373450   8.0500   NaN        S  "
      ]
     },
     "execution_count": 41,
     "metadata": {},
     "output_type": "execute_result"
    }
   ],
   "source": [
    "train.head()"
   ]
  },
  {
   "cell_type": "code",
   "execution_count": 10,
   "metadata": {},
   "outputs": [],
   "source": [
    "def fill_numeric_knn(df: pd.DataFrame, imputer_params:dict = {\"n_neighbors\": 5, \"metric\": \"nan_euclidean\", \"weights\": \"uniform\"})->pd.DataFrame:\n",
    "    knn_imputer = KNNImputer(**imputer_params)\n",
    "    transformed_df = knn_imputer.fit_transform(df)\n",
    "    return transformed_df\n",
    "\n",
    "# with Label Encoder    \n",
    "def fill_categorical_label(dataset: pd.DataFrame, column_name: str, fillna=True):\n",
    "    if fillna:\n",
    "        dataset[column_name].fillna(value=DEFAULT_NAN_NAME, inplace=True)\n",
    "    label_encoder = LabelEncoder().fit(np.sort(dataset[column_name].unique()))\n",
    "    dataset[column_name] = dataset[column_name].map(\n",
    "        dict(zip(dataset[column_name].unique(), label_encoder.transform(dataset[column_name].unique()))))\n",
    "    return label_encoder\n",
    "\n",
    "#Target Encoder\n",
    "def fill_categorical_target(dataset: pd.DataFrame, column_name: str, target_column: str, fillna=True):\n",
    "    if fillna:\n",
    "        dataset[column_name].fillna(value=DEFAULT_NAN_NAME, inplace=True)\n",
    "    target_encoder = TargetEncoder()\n",
    "    dataset[column_name] = target_encoder.fit_transform(dataset[column_name], dataset[target_column])\n",
    "    return target_encoder\n",
    "    "
   ]
  },
  {
   "cell_type": "code",
   "execution_count": 42,
   "metadata": {},
   "outputs": [
    {
     "name": "stderr",
     "output_type": "stream",
     "text": [
      "`should_run_async` will not call `transform_cell` automatically in the future. Please pass the result to `transformed_cell` argument and any exception that happen during thetransform in `preprocessing_exc_tuple` in IPython 7.17 and above.\n",
      "is_categorical is deprecated and will be removed in a future version.  Use is_categorical_dtype instead\n",
      "is_categorical is deprecated and will be removed in a future version.  Use is_categorical_dtype instead\n",
      "is_categorical is deprecated and will be removed in a future version.  Use is_categorical_dtype instead\n",
      "is_categorical is deprecated and will be removed in a future version.  Use is_categorical_dtype instead\n"
     ]
    }
   ],
   "source": [
    "train.drop(columns=[PASSENGER_ID, NAME], inplace=True)\n",
    "y_train = train[SURVIVED]\n",
    "label_encoded_train = train.copy()\n",
    "for cat_feature in CAT_FEATURES:\n",
    "    fill_categorical_label(label_encoded_train, cat_feature)\n",
    "    \n",
    "target_encoded_train = train.copy()\n",
    "for cat_feature in CAT_FEATURES:\n",
    "    fill_categorical_target(target_encoded_train, cat_feature, SURVIVED)"
   ]
  },
  {
   "cell_type": "code",
   "execution_count": 43,
   "metadata": {},
   "outputs": [
    {
     "name": "stderr",
     "output_type": "stream",
     "text": [
      "`should_run_async` will not call `transform_cell` automatically in the future. Please pass the result to `transformed_cell` argument and any exception that happen during thetransform in `preprocessing_exc_tuple` in IPython 7.17 and above.\n"
     ]
    },
    {
     "data": {
      "text/plain": [
       "Survived      0\n",
       "Pclass        0\n",
       "Sex           0\n",
       "Age         177\n",
       "SibSp         0\n",
       "Parch         0\n",
       "Ticket        0\n",
       "Fare          0\n",
       "Cabin         0\n",
       "Embarked      0\n",
       "dtype: int64"
      ]
     },
     "execution_count": 43,
     "metadata": {},
     "output_type": "execute_result"
    }
   ],
   "source": [
    "target_encoded_train.isna().sum()"
   ]
  },
  {
   "cell_type": "code",
   "execution_count": 47,
   "metadata": {},
   "outputs": [],
   "source": [
    "# Fill Age\n",
    "label_encoded_train.drop(SURVIVED, inplace=True, axis=1)\n",
    "target_encoded_train.drop(SURVIVED, inplace=True, axis=1)\n",
    "filled_label_train = pd.DataFrame(fill_numeric_knn(label_encoded_train))\n",
    "filled_target_train = pd.DataFrame(fill_numeric_knn(target_encoded_train))"
   ]
  },
  {
   "cell_type": "code",
   "execution_count": 48,
   "metadata": {},
   "outputs": [
    {
     "name": "stderr",
     "output_type": "stream",
     "text": [
      "`should_run_async` will not call `transform_cell` automatically in the future. Please pass the result to `transformed_cell` argument and any exception that happen during thetransform in `preprocessing_exc_tuple` in IPython 7.17 and above.\n"
     ]
    }
   ],
   "source": [
    "filled_label_train.columns = label_encoded_train.columns\n",
    "filled_target_train.columns = target_encoded_train.columns"
   ]
  },
  {
   "cell_type": "code",
   "execution_count": 49,
   "metadata": {},
   "outputs": [
    {
     "data": {
      "text/html": [
       "<div>\n",
       "<style scoped>\n",
       "    .dataframe tbody tr th:only-of-type {\n",
       "        vertical-align: middle;\n",
       "    }\n",
       "\n",
       "    .dataframe tbody tr th {\n",
       "        vertical-align: top;\n",
       "    }\n",
       "\n",
       "    .dataframe thead th {\n",
       "        text-align: right;\n",
       "    }\n",
       "</style>\n",
       "<table border=\"1\" class=\"dataframe\">\n",
       "  <thead>\n",
       "    <tr style=\"text-align: right;\">\n",
       "      <th></th>\n",
       "      <th>Pclass</th>\n",
       "      <th>Sex</th>\n",
       "      <th>Age</th>\n",
       "      <th>SibSp</th>\n",
       "      <th>Parch</th>\n",
       "      <th>Ticket</th>\n",
       "      <th>Fare</th>\n",
       "      <th>Cabin</th>\n",
       "      <th>Embarked</th>\n",
       "    </tr>\n",
       "  </thead>\n",
       "  <tbody>\n",
       "    <tr>\n",
       "      <th>0</th>\n",
       "      <td>2.0</td>\n",
       "      <td>1.0</td>\n",
       "      <td>22.0</td>\n",
       "      <td>1.0</td>\n",
       "      <td>0.0</td>\n",
       "      <td>523.0</td>\n",
       "      <td>7.2500</td>\n",
       "      <td>146.0</td>\n",
       "      <td>3.0</td>\n",
       "    </tr>\n",
       "    <tr>\n",
       "      <th>1</th>\n",
       "      <td>0.0</td>\n",
       "      <td>0.0</td>\n",
       "      <td>38.0</td>\n",
       "      <td>1.0</td>\n",
       "      <td>0.0</td>\n",
       "      <td>596.0</td>\n",
       "      <td>71.2833</td>\n",
       "      <td>81.0</td>\n",
       "      <td>0.0</td>\n",
       "    </tr>\n",
       "    <tr>\n",
       "      <th>2</th>\n",
       "      <td>2.0</td>\n",
       "      <td>0.0</td>\n",
       "      <td>26.0</td>\n",
       "      <td>0.0</td>\n",
       "      <td>0.0</td>\n",
       "      <td>669.0</td>\n",
       "      <td>7.9250</td>\n",
       "      <td>146.0</td>\n",
       "      <td>3.0</td>\n",
       "    </tr>\n",
       "    <tr>\n",
       "      <th>3</th>\n",
       "      <td>0.0</td>\n",
       "      <td>0.0</td>\n",
       "      <td>35.0</td>\n",
       "      <td>1.0</td>\n",
       "      <td>0.0</td>\n",
       "      <td>49.0</td>\n",
       "      <td>53.1000</td>\n",
       "      <td>55.0</td>\n",
       "      <td>3.0</td>\n",
       "    </tr>\n",
       "    <tr>\n",
       "      <th>4</th>\n",
       "      <td>2.0</td>\n",
       "      <td>1.0</td>\n",
       "      <td>35.0</td>\n",
       "      <td>0.0</td>\n",
       "      <td>0.0</td>\n",
       "      <td>472.0</td>\n",
       "      <td>8.0500</td>\n",
       "      <td>146.0</td>\n",
       "      <td>3.0</td>\n",
       "    </tr>\n",
       "  </tbody>\n",
       "</table>\n",
       "</div>"
      ],
      "text/plain": [
       "   Pclass  Sex   Age  SibSp  Parch  Ticket     Fare  Cabin  Embarked\n",
       "0     2.0  1.0  22.0    1.0    0.0   523.0   7.2500  146.0       3.0\n",
       "1     0.0  0.0  38.0    1.0    0.0   596.0  71.2833   81.0       0.0\n",
       "2     2.0  0.0  26.0    0.0    0.0   669.0   7.9250  146.0       3.0\n",
       "3     0.0  0.0  35.0    1.0    0.0    49.0  53.1000   55.0       3.0\n",
       "4     2.0  1.0  35.0    0.0    0.0   472.0   8.0500  146.0       3.0"
      ]
     },
     "execution_count": 49,
     "metadata": {},
     "output_type": "execute_result"
    }
   ],
   "source": [
    "filled_label_train.head()"
   ]
  },
  {
   "cell_type": "code",
   "execution_count": 50,
   "metadata": {},
   "outputs": [
    {
     "name": "stderr",
     "output_type": "stream",
     "text": [
      "`should_run_async` will not call `transform_cell` automatically in the future. Please pass the result to `transformed_cell` argument and any exception that happen during thetransform in `preprocessing_exc_tuple` in IPython 7.17 and above.\n"
     ]
    },
    {
     "data": {
      "text/html": [
       "<div>\n",
       "<style scoped>\n",
       "    .dataframe tbody tr th:only-of-type {\n",
       "        vertical-align: middle;\n",
       "    }\n",
       "\n",
       "    .dataframe tbody tr th {\n",
       "        vertical-align: top;\n",
       "    }\n",
       "\n",
       "    .dataframe thead th {\n",
       "        text-align: right;\n",
       "    }\n",
       "</style>\n",
       "<table border=\"1\" class=\"dataframe\">\n",
       "  <thead>\n",
       "    <tr style=\"text-align: right;\">\n",
       "      <th></th>\n",
       "      <th>Pclass</th>\n",
       "      <th>Sex</th>\n",
       "      <th>Age</th>\n",
       "      <th>SibSp</th>\n",
       "      <th>Parch</th>\n",
       "      <th>Ticket</th>\n",
       "      <th>Fare</th>\n",
       "      <th>Cabin</th>\n",
       "      <th>Embarked</th>\n",
       "    </tr>\n",
       "  </thead>\n",
       "  <tbody>\n",
       "    <tr>\n",
       "      <th>0</th>\n",
       "      <td>3.0</td>\n",
       "      <td>0.188908</td>\n",
       "      <td>22.0</td>\n",
       "      <td>1.0</td>\n",
       "      <td>0.0</td>\n",
       "      <td>0.383838</td>\n",
       "      <td>7.2500</td>\n",
       "      <td>0.299854</td>\n",
       "      <td>0.336957</td>\n",
       "    </tr>\n",
       "    <tr>\n",
       "      <th>1</th>\n",
       "      <td>1.0</td>\n",
       "      <td>0.742038</td>\n",
       "      <td>38.0</td>\n",
       "      <td>1.0</td>\n",
       "      <td>0.0</td>\n",
       "      <td>0.383838</td>\n",
       "      <td>71.2833</td>\n",
       "      <td>0.383838</td>\n",
       "      <td>0.553571</td>\n",
       "    </tr>\n",
       "    <tr>\n",
       "      <th>2</th>\n",
       "      <td>3.0</td>\n",
       "      <td>0.742038</td>\n",
       "      <td>26.0</td>\n",
       "      <td>0.0</td>\n",
       "      <td>0.0</td>\n",
       "      <td>0.383838</td>\n",
       "      <td>7.9250</td>\n",
       "      <td>0.299854</td>\n",
       "      <td>0.336957</td>\n",
       "    </tr>\n",
       "    <tr>\n",
       "      <th>3</th>\n",
       "      <td>1.0</td>\n",
       "      <td>0.742038</td>\n",
       "      <td>35.0</td>\n",
       "      <td>1.0</td>\n",
       "      <td>0.0</td>\n",
       "      <td>0.468759</td>\n",
       "      <td>53.1000</td>\n",
       "      <td>0.468759</td>\n",
       "      <td>0.336957</td>\n",
       "    </tr>\n",
       "    <tr>\n",
       "      <th>4</th>\n",
       "      <td>3.0</td>\n",
       "      <td>0.188908</td>\n",
       "      <td>35.0</td>\n",
       "      <td>0.0</td>\n",
       "      <td>0.0</td>\n",
       "      <td>0.383838</td>\n",
       "      <td>8.0500</td>\n",
       "      <td>0.299854</td>\n",
       "      <td>0.336957</td>\n",
       "    </tr>\n",
       "  </tbody>\n",
       "</table>\n",
       "</div>"
      ],
      "text/plain": [
       "   Pclass       Sex   Age  SibSp  Parch    Ticket     Fare     Cabin  Embarked\n",
       "0     3.0  0.188908  22.0    1.0    0.0  0.383838   7.2500  0.299854  0.336957\n",
       "1     1.0  0.742038  38.0    1.0    0.0  0.383838  71.2833  0.383838  0.553571\n",
       "2     3.0  0.742038  26.0    0.0    0.0  0.383838   7.9250  0.299854  0.336957\n",
       "3     1.0  0.742038  35.0    1.0    0.0  0.468759  53.1000  0.468759  0.336957\n",
       "4     3.0  0.188908  35.0    0.0    0.0  0.383838   8.0500  0.299854  0.336957"
      ]
     },
     "execution_count": 50,
     "metadata": {},
     "output_type": "execute_result"
    }
   ],
   "source": [
    "filled_target_train.head()"
   ]
  },
  {
   "cell_type": "code",
   "execution_count": 51,
   "metadata": {},
   "outputs": [
    {
     "name": "stderr",
     "output_type": "stream",
     "text": [
      "`should_run_async` will not call `transform_cell` automatically in the future. Please pass the result to `transformed_cell` argument and any exception that happen during thetransform in `preprocessing_exc_tuple` in IPython 7.17 and above.\n"
     ]
    },
    {
     "data": {
      "text/plain": [
       "Pclass      0\n",
       "Sex         0\n",
       "Age         0\n",
       "SibSp       0\n",
       "Parch       0\n",
       "Ticket      0\n",
       "Fare        0\n",
       "Cabin       0\n",
       "Embarked    0\n",
       "dtype: int64"
      ]
     },
     "execution_count": 51,
     "metadata": {},
     "output_type": "execute_result"
    }
   ],
   "source": [
    "filled_label_train.isna().sum()"
   ]
  },
  {
   "cell_type": "code",
   "execution_count": 52,
   "metadata": {},
   "outputs": [
    {
     "name": "stderr",
     "output_type": "stream",
     "text": [
      "`should_run_async` will not call `transform_cell` automatically in the future. Please pass the result to `transformed_cell` argument and any exception that happen during thetransform in `preprocessing_exc_tuple` in IPython 7.17 and above.\n"
     ]
    },
    {
     "data": {
      "text/plain": [
       "Pclass      0\n",
       "Sex         0\n",
       "Age         0\n",
       "SibSp       0\n",
       "Parch       0\n",
       "Ticket      0\n",
       "Fare        0\n",
       "Cabin       0\n",
       "Embarked    0\n",
       "dtype: int64"
      ]
     },
     "execution_count": 52,
     "metadata": {},
     "output_type": "execute_result"
    }
   ],
   "source": [
    "filled_target_train.isna().sum()"
   ]
  },
  {
   "cell_type": "code",
   "execution_count": 64,
   "metadata": {},
   "outputs": [],
   "source": [
    "rfc_params = {\n",
    "    \"n_estimators\": 10,\n",
    "    \"criterion\": \"gini\",\n",
    "    \"min_samples_split\": 10,\n",
    "    \"max_features\": \"auto\",\n",
    "    \"bootstrap\": True,\n",
    "    \"n_jobs\": -1\n",
    "}\n"
   ]
  },
  {
   "cell_type": "code",
   "execution_count": 65,
   "metadata": {},
   "outputs": [],
   "source": [
    "rfc = RandomForestClassifier(**rfc_params)"
   ]
  },
  {
   "cell_type": "code",
   "execution_count": 66,
   "metadata": {},
   "outputs": [
    {
     "data": {
      "text/plain": [
       "{'fit_time': array([0.05567384, 0.04786849, 0.05680037, 0.04956961, 0.03287244,\n",
       "        0.0403049 , 0.03659844, 0.03997612, 0.0352037 , 0.02583218]),\n",
       " 'score_time': array([0.04133511, 0.01616096, 0.04299593, 0.01564693, 0.02611113,\n",
       "        0.03371024, 0.02151513, 0.01861072, 0.01524115, 0.01119876]),\n",
       " 'estimator': (RandomForestClassifier(min_samples_split=10, n_estimators=10, n_jobs=-1),\n",
       "  RandomForestClassifier(min_samples_split=10, n_estimators=10, n_jobs=-1),\n",
       "  RandomForestClassifier(min_samples_split=10, n_estimators=10, n_jobs=-1),\n",
       "  RandomForestClassifier(min_samples_split=10, n_estimators=10, n_jobs=-1),\n",
       "  RandomForestClassifier(min_samples_split=10, n_estimators=10, n_jobs=-1),\n",
       "  RandomForestClassifier(min_samples_split=10, n_estimators=10, n_jobs=-1),\n",
       "  RandomForestClassifier(min_samples_split=10, n_estimators=10, n_jobs=-1),\n",
       "  RandomForestClassifier(min_samples_split=10, n_estimators=10, n_jobs=-1),\n",
       "  RandomForestClassifier(min_samples_split=10, n_estimators=10, n_jobs=-1),\n",
       "  RandomForestClassifier(min_samples_split=10, n_estimators=10, n_jobs=-1)),\n",
       " 'test_accuracy': array([0.82222222, 0.7752809 , 0.74157303, 0.80898876, 0.91011236,\n",
       "        0.82022472, 0.82022472, 0.79775281, 0.85393258, 0.84269663]),\n",
       " 'test_f1_macro': array([0.81092437, 0.75250278, 0.71318481, 0.80084244, 0.90367965,\n",
       "        0.80735931, 0.80200222, 0.78042763, 0.84616407, 0.83342246]),\n",
       " 'test_roc_auc': array([0.8612987 , 0.84331551, 0.77245989, 0.89625668, 0.93743316,\n",
       "        0.86229947, 0.84705882, 0.87967914, 0.93850267, 0.89365079])}"
      ]
     },
     "execution_count": 66,
     "metadata": {},
     "output_type": "execute_result"
    }
   ],
   "source": [
    "rf_l_scores = cross_validate(rfc, filled_label_train, y_train, cv=10, scoring=[\"accuracy\", \"f1_macro\", \"roc_auc\"], n_jobs=-1, return_estimator=True)\n",
    "rf_l_scores"
   ]
  },
  {
   "cell_type": "code",
   "execution_count": 67,
   "metadata": {},
   "outputs": [
    {
     "name": "stderr",
     "output_type": "stream",
     "text": [
      "`should_run_async` will not call `transform_cell` automatically in the future. Please pass the result to `transformed_cell` argument and any exception that happen during thetransform in `preprocessing_exc_tuple` in IPython 7.17 and above.\n"
     ]
    },
    {
     "data": {
      "text/plain": [
       "0.9101123595505618"
      ]
     },
     "execution_count": 67,
     "metadata": {},
     "output_type": "execute_result"
    }
   ],
   "source": [
    "max(rf_l_scores[\"test_accuracy\"])"
   ]
  },
  {
   "cell_type": "code",
   "execution_count": 68,
   "metadata": {},
   "outputs": [
    {
     "data": {
      "text/plain": [
       "{'fit_time': array([0.03745079, 0.03970098, 0.05195355, 0.05174041, 0.03328133,\n",
       "        0.05555534, 0.03371572, 0.02499628, 0.02647972, 0.02964497]),\n",
       " 'score_time': array([0.04384398, 0.04224443, 0.01964116, 0.0238266 , 0.02516294,\n",
       "        0.02430964, 0.01710153, 0.02826524, 0.01366591, 0.01242161]),\n",
       " 'estimator': (RandomForestClassifier(min_samples_split=10, n_estimators=10, n_jobs=-1),\n",
       "  RandomForestClassifier(min_samples_split=10, n_estimators=10, n_jobs=-1),\n",
       "  RandomForestClassifier(min_samples_split=10, n_estimators=10, n_jobs=-1),\n",
       "  RandomForestClassifier(min_samples_split=10, n_estimators=10, n_jobs=-1),\n",
       "  RandomForestClassifier(min_samples_split=10, n_estimators=10, n_jobs=-1),\n",
       "  RandomForestClassifier(min_samples_split=10, n_estimators=10, n_jobs=-1),\n",
       "  RandomForestClassifier(min_samples_split=10, n_estimators=10, n_jobs=-1),\n",
       "  RandomForestClassifier(min_samples_split=10, n_estimators=10, n_jobs=-1),\n",
       "  RandomForestClassifier(min_samples_split=10, n_estimators=10, n_jobs=-1),\n",
       "  RandomForestClassifier(min_samples_split=10, n_estimators=10, n_jobs=-1)),\n",
       " 'test_accuracy': array([0.86666667, 0.92134831, 0.82022472, 0.92134831, 0.91011236,\n",
       "        0.87640449, 0.84269663, 0.85393258, 0.94382022, 0.85393258]),\n",
       " 'test_f1_macro': array([0.85819328, 0.91400966, 0.79887006, 0.91799394, 0.90367965,\n",
       "        0.86487233, 0.8240113 , 0.84030366, 0.94016404, 0.84247788]),\n",
       " 'test_roc_auc': array([0.93298701, 0.93716578, 0.80721925, 0.93903743, 0.94652406,\n",
       "        0.88475936, 0.88770053, 0.92433155, 0.96737968, 0.91455026])}"
      ]
     },
     "execution_count": 68,
     "metadata": {},
     "output_type": "execute_result"
    }
   ],
   "source": [
    "rf_t_scores = cross_validate(rfc, filled_target_train, y_train, cv=10, scoring=[\"accuracy\", \"f1_macro\", \"roc_auc\"], n_jobs=-1, return_estimator=True)\n",
    "rf_t_scores"
   ]
  },
  {
   "cell_type": "code",
   "execution_count": 69,
   "metadata": {},
   "outputs": [
    {
     "name": "stderr",
     "output_type": "stream",
     "text": [
      "`should_run_async` will not call `transform_cell` automatically in the future. Please pass the result to `transformed_cell` argument and any exception that happen during thetransform in `preprocessing_exc_tuple` in IPython 7.17 and above.\n"
     ]
    },
    {
     "data": {
      "text/plain": [
       "0.9438202247191011"
      ]
     },
     "execution_count": 69,
     "metadata": {},
     "output_type": "execute_result"
    }
   ],
   "source": [
    "max(rf_t_scores[\"test_accuracy\"])"
   ]
  },
  {
   "cell_type": "code",
   "execution_count": null,
   "metadata": {},
   "outputs": [],
   "source": []
  }
 ],
 "metadata": {
  "kernelspec": {
   "display_name": "Python 3",
   "language": "python",
   "name": "python3"
  },
  "language_info": {
   "codemirror_mode": {
    "name": "ipython",
    "version": 3
   },
   "file_extension": ".py",
   "mimetype": "text/x-python",
   "name": "python",
   "nbconvert_exporter": "python",
   "pygments_lexer": "ipython3",
   "version": "3.8.6"
  }
 },
 "nbformat": 4,
 "nbformat_minor": 4
}
